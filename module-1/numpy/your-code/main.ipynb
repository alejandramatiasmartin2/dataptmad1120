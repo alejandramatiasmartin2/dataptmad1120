{
 "cells": [
  {
   "cell_type": "markdown",
   "metadata": {},
   "source": [
    "# Introduction to NumPy\n",
    "\n",
    "\n",
    "#### 1. Import NumPy under the name np."
   ]
  },
  {
   "cell_type": "code",
   "execution_count": 8,
   "metadata": {},
   "outputs": [],
   "source": [
    "# your code here\n",
    "import numpy as np\n"
   ]
  },
  {
   "cell_type": "markdown",
   "metadata": {},
   "source": [
    "#### 2. Print your NumPy version."
   ]
  },
  {
   "cell_type": "code",
   "execution_count": 3,
   "metadata": {},
   "outputs": [
    {
     "name": "stdout",
     "output_type": "stream",
     "text": [
      "1.19.2\n"
     ]
    }
   ],
   "source": [
    "# your code here\n",
    "print(np.__version__)\n"
   ]
  },
  {
   "cell_type": "markdown",
   "metadata": {},
   "source": [
    "#### 3. Generate a 2x3x5 3-dimensional array with random values. Assign the array to variable *a*.\n",
    "**Challenge**: there are at least three easy ways that use numpy to generate random arrays. How many ways can you find?"
   ]
  },
  {
   "cell_type": "code",
   "execution_count": 9,
   "metadata": {},
   "outputs": [
    {
     "name": "stdout",
     "output_type": "stream",
     "text": [
      "[[[0.04888366 0.03514035 0.87524648 0.82272776 0.75181255]\n",
      "  [0.77812866 0.58242654 0.52984735 0.17439546 0.09104237]\n",
      "  [0.62013723 0.85789569 0.17978659 0.1450558  0.49719624]]\n",
      "\n",
      " [[0.68676598 0.42337246 0.88358081 0.14363631 0.50390523]\n",
      "  [0.4387577  0.99664275 0.58205569 0.2912863  0.74566933]\n",
      "  [0.52978636 0.88565961 0.27103953 0.39354532 0.05414797]]]\n",
      "(2, 3, 5)\n",
      "30\n"
     ]
    }
   ],
   "source": [
    "# Method 1\n",
    "a = np.random.random((2,3,5))\n",
    "print (a)\n",
    "print (a.shape)\n",
    "print (a.size)"
   ]
  },
  {
   "cell_type": "code",
   "execution_count": 13,
   "metadata": {},
   "outputs": [
    {
     "name": "stdout",
     "output_type": "stream",
     "text": [
      "[[[ 0.24041261 -0.6264484  -0.59649429 -0.05370901 -0.06940104]\n",
      "  [-0.98743829  1.28212479 -0.24538258  1.52837982  0.51971368]\n",
      "  [-0.02328816 -0.79872632  1.08870885 -0.41128948 -0.03039377]]\n",
      "\n",
      " [[ 0.96882166  0.27366369  0.44930492  1.18249545  0.41156917]\n",
      "  [ 0.63159646 -0.57945012 -0.45671814  0.98403723  1.01174048]\n",
      "  [ 0.00374038 -0.48653893  0.15118878 -0.72497887 -2.12742896]]]\n"
     ]
    }
   ],
   "source": [
    "# Method 2\n",
    "a = np.random.randn(2,3,5)\n",
    "print(a)"
   ]
  },
  {
   "cell_type": "code",
   "execution_count": 5,
   "metadata": {},
   "outputs": [
    {
     "name": "stdout",
     "output_type": "stream",
     "text": [
      "[[[ 7 57  6 74 69]\n",
      "  [75 59 83  6 62]\n",
      "  [77 64 43 93 55]]\n",
      "\n",
      " [[54 76 82 88 88]\n",
      "  [29 48  7 19 19]\n",
      "  [51 45 72 64 23]]]\n"
     ]
    }
   ],
   "source": [
    "# Method 3\n",
    "a = np.random.randint(100,size = (2,3,5))\n",
    "print(a)"
   ]
  },
  {
   "cell_type": "markdown",
   "metadata": {},
   "source": [
    "#### 4. Print *a*.\n"
   ]
  },
  {
   "cell_type": "code",
   "execution_count": 10,
   "metadata": {},
   "outputs": [
    {
     "name": "stdout",
     "output_type": "stream",
     "text": [
      "[[[0.04888366 0.03514035 0.87524648 0.82272776 0.75181255]\n",
      "  [0.77812866 0.58242654 0.52984735 0.17439546 0.09104237]\n",
      "  [0.62013723 0.85789569 0.17978659 0.1450558  0.49719624]]\n",
      "\n",
      " [[0.68676598 0.42337246 0.88358081 0.14363631 0.50390523]\n",
      "  [0.4387577  0.99664275 0.58205569 0.2912863  0.74566933]\n",
      "  [0.52978636 0.88565961 0.27103953 0.39354532 0.05414797]]]\n"
     ]
    }
   ],
   "source": [
    "# your code here\n",
    "print(a)"
   ]
  },
  {
   "cell_type": "markdown",
   "metadata": {},
   "source": [
    "#### 5. Create a 5x2x3 3-dimensional array with all values equaling 1. Assign the array to variable *b*."
   ]
  },
  {
   "cell_type": "code",
   "execution_count": 11,
   "metadata": {},
   "outputs": [],
   "source": [
    "# your code here\n",
    "b = np.ones((5,2,3))\n"
   ]
  },
  {
   "cell_type": "markdown",
   "metadata": {},
   "source": [
    "#### 6. Print *b*.\n"
   ]
  },
  {
   "cell_type": "code",
   "execution_count": 12,
   "metadata": {},
   "outputs": [
    {
     "name": "stdout",
     "output_type": "stream",
     "text": [
      "[[[1. 1. 1.]\n",
      "  [1. 1. 1.]]\n",
      "\n",
      " [[1. 1. 1.]\n",
      "  [1. 1. 1.]]\n",
      "\n",
      " [[1. 1. 1.]\n",
      "  [1. 1. 1.]]\n",
      "\n",
      " [[1. 1. 1.]\n",
      "  [1. 1. 1.]]\n",
      "\n",
      " [[1. 1. 1.]\n",
      "  [1. 1. 1.]]]\n",
      "30\n",
      "(5, 2, 3)\n"
     ]
    }
   ],
   "source": [
    "# your code here\n",
    "print(b)\n",
    "print( b.size)\n",
    "print(b.shape)"
   ]
  },
  {
   "cell_type": "markdown",
   "metadata": {},
   "source": [
    "#### 7. Do *a* and *b* have the same size? How do you prove that in Python code?"
   ]
  },
  {
   "cell_type": "code",
   "execution_count": 13,
   "metadata": {},
   "outputs": [
    {
     "name": "stdout",
     "output_type": "stream",
     "text": [
      "True\n"
     ]
    }
   ],
   "source": [
    "# your code here\n",
    "if a.size == b.size:\n",
    "        print(\"True\")"
   ]
  },
  {
   "cell_type": "markdown",
   "metadata": {},
   "source": [
    "#### 8. Are you able to add *a* and *b*? Why or why not?\n"
   ]
  },
  {
   "cell_type": "code",
   "execution_count": 14,
   "metadata": {},
   "outputs": [
    {
     "ename": "ValueError",
     "evalue": "operands could not be broadcast together with shapes (2,3,5) (5,2,3) ",
     "output_type": "error",
     "traceback": [
      "\u001b[0;31m---------------------------------------------------------------------------\u001b[0m",
      "\u001b[0;31mValueError\u001b[0m                                Traceback (most recent call last)",
      "\u001b[0;32m<ipython-input-14-21f0152f6b35>\u001b[0m in \u001b[0;36m<module>\u001b[0;34m\u001b[0m\n\u001b[1;32m      1\u001b[0m \u001b[0;31m# your answer here\u001b[0m\u001b[0;34m\u001b[0m\u001b[0;34m\u001b[0m\u001b[0;34m\u001b[0m\u001b[0m\n\u001b[0;32m----> 2\u001b[0;31m \u001b[0mc\u001b[0m \u001b[0;34m=\u001b[0m \u001b[0mnp\u001b[0m\u001b[0;34m.\u001b[0m\u001b[0madd\u001b[0m\u001b[0;34m(\u001b[0m\u001b[0ma\u001b[0m\u001b[0;34m,\u001b[0m\u001b[0mb\u001b[0m\u001b[0;34m)\u001b[0m\u001b[0;34m\u001b[0m\u001b[0;34m\u001b[0m\u001b[0m\n\u001b[0m\u001b[1;32m      3\u001b[0m \u001b[0;31m# a and b do not have the same shape, so it is not possible to add them.\u001b[0m\u001b[0;34m\u001b[0m\u001b[0;34m\u001b[0m\u001b[0;34m\u001b[0m\u001b[0m\n",
      "\u001b[0;31mValueError\u001b[0m: operands could not be broadcast together with shapes (2,3,5) (5,2,3) "
     ]
    }
   ],
   "source": [
    "# your answer here\n",
    "c = np.add(a,b)\n",
    "# a and b do not have the same shape, so it is not possible to add them."
   ]
  },
  {
   "cell_type": "markdown",
   "metadata": {},
   "source": [
    "#### 9. Transpose *b* so that it has the same structure of *a* (i.e. become a 2x3x5 array). Assign the transposed array to variable *c*."
   ]
  },
  {
   "cell_type": "code",
   "execution_count": 15,
   "metadata": {},
   "outputs": [
    {
     "name": "stdout",
     "output_type": "stream",
     "text": [
      "(5, 2, 3)\n",
      "(2, 3, 5)\n"
     ]
    }
   ],
   "source": [
    "# your code here\n",
    "print (b.shape)\n",
    "c = b.transpose(1,2,0)\n",
    "\n",
    "print(c.shape)"
   ]
  },
  {
   "cell_type": "markdown",
   "metadata": {},
   "source": [
    "#### 10. Try to add *a* and *c*. Now it should work. Assign the sum to variable *d*. But why does it work now?"
   ]
  },
  {
   "cell_type": "code",
   "execution_count": 16,
   "metadata": {},
   "outputs": [
    {
     "name": "stdout",
     "output_type": "stream",
     "text": [
      "[[[1.04888366 1.03514035 1.87524648 1.82272776 1.75181255]\n",
      "  [1.77812866 1.58242654 1.52984735 1.17439546 1.09104237]\n",
      "  [1.62013723 1.85789569 1.17978659 1.1450558  1.49719624]]\n",
      "\n",
      " [[1.68676598 1.42337246 1.88358081 1.14363631 1.50390523]\n",
      "  [1.4387577  1.99664275 1.58205569 1.2912863  1.74566933]\n",
      "  [1.52978636 1.88565961 1.27103953 1.39354532 1.05414797]]]\n",
      "(2, 3, 5)\n"
     ]
    }
   ],
   "source": [
    "# your code/answer here\n",
    "d = np.add(a,c)\n",
    "print(d)\n",
    "print(d.shape)\n",
    "#It works because both arrays have the same shape"
   ]
  },
  {
   "cell_type": "markdown",
   "metadata": {},
   "source": [
    "#### 11. Print *a* and *d*. Notice the difference and relation of the two array in terms of the values? Explain."
   ]
  },
  {
   "cell_type": "code",
   "execution_count": 17,
   "metadata": {},
   "outputs": [
    {
     "name": "stdout",
     "output_type": "stream",
     "text": [
      "[[[0.04888366 0.03514035 0.87524648 0.82272776 0.75181255]\n",
      "  [0.77812866 0.58242654 0.52984735 0.17439546 0.09104237]\n",
      "  [0.62013723 0.85789569 0.17978659 0.1450558  0.49719624]]\n",
      "\n",
      " [[0.68676598 0.42337246 0.88358081 0.14363631 0.50390523]\n",
      "  [0.4387577  0.99664275 0.58205569 0.2912863  0.74566933]\n",
      "  [0.52978636 0.88565961 0.27103953 0.39354532 0.05414797]]]\n",
      "[[[1.04888366 1.03514035 1.87524648 1.82272776 1.75181255]\n",
      "  [1.77812866 1.58242654 1.52984735 1.17439546 1.09104237]\n",
      "  [1.62013723 1.85789569 1.17978659 1.1450558  1.49719624]]\n",
      "\n",
      " [[1.68676598 1.42337246 1.88358081 1.14363631 1.50390523]\n",
      "  [1.4387577  1.99664275 1.58205569 1.2912863  1.74566933]\n",
      "  [1.52978636 1.88565961 1.27103953 1.39354532 1.05414797]]]\n"
     ]
    }
   ],
   "source": [
    "# your code/answer here\n",
    "print(a)\n",
    "\n",
    "print(d)\n",
    "# a and b are 2x3x5 3-dimensional arrays but in a, all values are equaled to 0 and in b, all values are equaled to 1"
   ]
  },
  {
   "cell_type": "markdown",
   "metadata": {},
   "source": [
    "#### 12. Multiply *a* and *c*. Assign the result to *e*."
   ]
  },
  {
   "cell_type": "code",
   "execution_count": 18,
   "metadata": {},
   "outputs": [
    {
     "name": "stdout",
     "output_type": "stream",
     "text": [
      "[[[0.05127327 0.03637519 1.64130287 1.49960874 1.31703467]\n",
      "  [1.38361286 0.92164721 0.81058555 0.20480924 0.09933108]\n",
      "  [1.00470742 1.5938807  0.21210981 0.16609699 0.74440034]]\n",
      "\n",
      " [[1.15841349 0.60261669 1.66429587 0.1642677  0.7578257 ]\n",
      "  [0.63126601 1.98993951 0.92084452 0.376134   1.30169207]\n",
      "  [0.81045995 1.67005257 0.34450195 0.54842324 0.05707997]]]\n"
     ]
    }
   ],
   "source": [
    "# your code here\n",
    "e = np.multiply(a,d)\n",
    "print(e)"
   ]
  },
  {
   "cell_type": "markdown",
   "metadata": {},
   "source": [
    "#### 13. Does *e* equal to *a*? Why or why not?\n"
   ]
  },
  {
   "cell_type": "code",
   "execution_count": 19,
   "metadata": {},
   "outputs": [
    {
     "name": "stdout",
     "output_type": "stream",
     "text": [
      "True\n"
     ]
    }
   ],
   "source": [
    "# your code/answer here\n",
    "if e.all() == a.all():\n",
    "    print(\"True\")\n",
    "else:\n",
    "    print(\"False\")"
   ]
  },
  {
   "cell_type": "markdown",
   "metadata": {},
   "source": [
    "#### 14. Identify the max, min, and mean values in *d*. Assign those values to variables *d_max*, *d_min* and *d_mean*."
   ]
  },
  {
   "cell_type": "code",
   "execution_count": 20,
   "metadata": {},
   "outputs": [
    {
     "name": "stdout",
     "output_type": "stream",
     "text": [
      "1.996642746233618\n",
      "1.0351403479833459\n",
      "1.493985802352487\n"
     ]
    }
   ],
   "source": [
    "# your code here\n",
    "d_max = np.amax(d)\n",
    "d_min = np.amin(d)\n",
    "d_mean = np.mean(d)\n",
    "print(d_max)\n",
    "print(d_min)\n",
    "print(d_mean)"
   ]
  },
  {
   "cell_type": "markdown",
   "metadata": {},
   "source": [
    "#### 15. Now we want to label the values in *d*. First create an empty array *f* with the same shape (i.e. 2x3x5) as *d* using `np.empty`.\n"
   ]
  },
  {
   "cell_type": "code",
   "execution_count": 21,
   "metadata": {},
   "outputs": [
    {
     "name": "stdout",
     "output_type": "stream",
     "text": [
      "[[[0.05127327 0.03637519 1.64130287 1.49960874 1.31703467]\n",
      "  [1.38361286 0.92164721 0.81058555 0.20480924 0.09933108]\n",
      "  [1.00470742 1.5938807  0.21210981 0.16609699 0.74440034]]\n",
      "\n",
      " [[1.15841349 0.60261669 1.66429587 0.1642677  0.7578257 ]\n",
      "  [0.63126601 1.98993951 0.92084452 0.376134   1.30169207]\n",
      "  [0.81045995 1.67005257 0.34450195 0.54842324 0.05707997]]]\n",
      "(2, 3, 5)\n"
     ]
    }
   ],
   "source": [
    "# your code here\n",
    "f = np.empty([2,3,5])\n",
    "print(f)\n",
    "print(f.shape)"
   ]
  },
  {
   "cell_type": "markdown",
   "metadata": {},
   "source": [
    "#### 16. Populate the values in *f*. \n",
    "\n",
    "For each value in *d*, if it's larger than *d_min* but smaller than *d_mean*, assign 25 to the corresponding value in *f*. If a value in *d* is larger than *d_mean* but smaller than *d_max*, assign 75 to the corresponding value in *f*. If a value equals to *d_mean*, assign 50 to the corresponding value in *f*. Assign 0 to the corresponding value(s) in *f* for *d_min* in *d*. Assign 100 to the corresponding value(s) in *f* for *d_max* in *d*. In the end, f should have only the following values: 0, 25, 50, 75, and 100.\n",
    "\n",
    "**Note**: you don't have to use Numpy in this question."
   ]
  },
  {
   "cell_type": "code",
   "execution_count": 24,
   "metadata": {},
   "outputs": [],
   "source": [
    "# your code here\n",
    "for x in range(len(d)):\n",
    "    for y in range(len(d[x])):\n",
    "        for z in range (len(d[x][y])):\n",
    "            if d_min < d[x][y][z] < d_mean:\n",
    "                f[x][y][z] = 25\n",
    "            if d_mean < d[x][y][z] < d_max:\n",
    "                f[x][y][z] = 75\n",
    "            if d[x][y][z] == d_mean:\n",
    "                f[x][y][z] = 50\n",
    "            if d[x][y][z] == d_min:\n",
    "                f[x][y][z] = 0\n",
    "            if d[x][y][z] == d_max:\n",
    "                f[x][y][z] = 100\n",
    "            "
   ]
  },
  {
   "cell_type": "markdown",
   "metadata": {},
   "source": [
    "#### 17. Print *d* and *f*. Do you have your expected *f*?\n",
    "For instance, if your *d* is:\n",
    "```python\n",
    "[[[1.85836099, 1.67064465, 1.62576044, 1.40243961, 1.88454931],\n",
    "[1.75354326, 1.69403643, 1.36729252, 1.61415071, 1.12104981],\n",
    "[1.72201435, 1.1862918 , 1.87078449, 1.7726778 , 1.88180042]],\n",
    "[[1.44747908, 1.31673383, 1.02000951, 1.52218947, 1.97066381],\n",
    "[1.79129243, 1.74983003, 1.96028037, 1.85166831, 1.65450881],\n",
    "[1.18068344, 1.9587381 , 1.00656599, 1.93402165, 1.73514584]]]\n",
    "```\n",
    "Your *f* should be:\n",
    "```python\n",
    "[[[ 75.,  75.,  75.,  25.,  75.],\n",
    "[ 75.,  75.,  25.,  25.,  25.],\n",
    "[ 75.,  25.,  75.,  75.,  75.]],\n",
    "[[ 25.,  25.,  25.,  25., 100.],\n",
    "[ 75.,  75.,  75.,  75.,  75.],\n",
    "[ 25.,  75.,   0.,  75.,  75.]]]\n",
    "```"
   ]
  },
  {
   "cell_type": "code",
   "execution_count": 26,
   "metadata": {},
   "outputs": [
    {
     "name": "stdout",
     "output_type": "stream",
     "text": [
      "[[[1.04888366 1.03514035 1.87524648 1.82272776 1.75181255]\n",
      "  [1.77812866 1.58242654 1.52984735 1.17439546 1.09104237]\n",
      "  [1.62013723 1.85789569 1.17978659 1.1450558  1.49719624]]\n",
      "\n",
      " [[1.68676598 1.42337246 1.88358081 1.14363631 1.50390523]\n",
      "  [1.4387577  1.99664275 1.58205569 1.2912863  1.74566933]\n",
      "  [1.52978636 1.88565961 1.27103953 1.39354532 1.05414797]]]\n",
      "[[[ 25.   0.  75.  75.  75.]\n",
      "  [ 75.  75.  75.  25.  25.]\n",
      "  [ 75.  75.  25.  25.  75.]]\n",
      "\n",
      " [[ 75.  25.  75.  25.  75.]\n",
      "  [ 25. 100.  75.  25.  75.]\n",
      "  [ 75.  75.  25.  25.  25.]]]\n"
     ]
    }
   ],
   "source": [
    "# your code here\n",
    "print(d)\n",
    "print(f)"
   ]
  },
  {
   "cell_type": "markdown",
   "metadata": {},
   "source": [
    "#### 18. Bonus question: instead of using numbers (i.e. 0, 25, 50, 75, and 100), use string values  (\"A\", \"B\", \"C\", \"D\", and \"E\") to label the array elements. For the example above, the expected result is:\n",
    "\n",
    "```python\n",
    "[[[ 'D',  'D',  'D',  'B',  'D'],\n",
    "[ 'D',  'D',  'B',  'B',  'B'],\n",
    "[ 'D',  'B',  'D',  'D',  'D']],\n",
    "[[ 'B',  'B',  'B',  'B',  'E'],\n",
    "[ 'D',  'D',  'D',  'D',  'D'],\n",
    "[ 'B',  'D',   'A',  'D', 'D']]]\n",
    "```\n",
    "**Note**: you don't have to use Numpy in this question."
   ]
  },
  {
   "cell_type": "code",
   "execution_count": null,
   "metadata": {},
   "outputs": [],
   "source": [
    "# your code here"
   ]
  }
 ],
 "metadata": {
  "kernelspec": {
   "display_name": "Python [conda env:ironhack_env]",
   "language": "python",
   "name": "conda-env-ironhack_env-py"
  },
  "language_info": {
   "codemirror_mode": {
    "name": "ipython",
    "version": 3
   },
   "file_extension": ".py",
   "mimetype": "text/x-python",
   "name": "python",
   "nbconvert_exporter": "python",
   "pygments_lexer": "ipython3",
   "version": "3.8.5"
  }
 },
 "nbformat": 4,
 "nbformat_minor": 4
}
